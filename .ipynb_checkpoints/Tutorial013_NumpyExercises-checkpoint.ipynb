{
 "cells": [
  {
   "cell_type": "markdown",
   "metadata": {},
   "source": [
    "## EXERCISES\n",
    "\n",
    "### Vector Multiplication\n",
    "1. Produce 2 vectors, one with integers in the range [5,10] and the other [15,20] using the np.arange function\n",
    "1. Without using any functions from the numpy module\n",
    "    1. Compute the outer product of those vectors \n",
    "    1. Compute the \"trace\" of the resulting matrix\n",
    "    \n",
    "    ![trace](https://wikimedia.org/api/rest_v1/media/math/render/svg/3e5b6e82272fc5eeca6d510388e0a2bd0a6c6463)\n",
    "    \n",
    "    \n",
    "Complete the same items using numpy operations"
   ]
  },
  {
   "cell_type": "code",
   "execution_count": 13,
   "metadata": {},
   "outputs": [
    {
     "name": "stdout",
     "output_type": "stream",
     "text": [
      "Inner Product: 805\n",
      "Outer Product:\n",
      "Outer Product:\n"
     ]
    },
    {
     "data": {
      "text/plain": [
       "array([[ 75,  80,  85,  90,  95, 100],\n",
       "       [ 90,  96, 102, 108, 114, 120],\n",
       "       [105, 112, 119, 126, 133, 140],\n",
       "       [120, 128, 136, 144, 152, 160],\n",
       "       [135, 144, 153, 162, 171, 180],\n",
       "       [150, 160, 170, 180, 190, 200]])"
      ]
     },
     "execution_count": 13,
     "metadata": {},
     "output_type": "execute_result"
    }
   ],
   "source": [
    "#importing numpy\n",
    "import numpy as np\n",
    "from numpy import pi\n",
    "\n",
    "\n",
    "vector_1= np.arange(5,11)\n",
    "vector_2= np.arange(15,21)\n",
    "\n",
    "#inner/outer products w/o numpy \n",
    "p_in = [] # initialize empty list\n",
    "\n",
    "# test to make sure that the two lists are the same length \n",
    "assert (len(vector_1)==len(vector_2))\n",
    "\n",
    "for i in range(len(vector_1)): # iterate through indicies of vectors\n",
    "    p_in.append(vector_1[i]*vector_2[i])\n",
    "    \n",
    "print('Inner Product: %d' %sum(p_in)) # Print Output\n",
    "\n",
    "# outer product\n",
    "p_out = [] # initialize empty list\n",
    "\n",
    "for i in range(len(vector_1)): # iterate through indicies of vectors\n",
    "    row = [] # initialize sub list\n",
    "    for j in range(len(vector_2)):\n",
    "        row.append(vector_1[i]*vector_2[j])\n",
    "        \n",
    "    p_out.append(row)\n",
    "\n",
    "print('Outer Product:') # Print Output\n",
    "p_out\n",
    "\n",
    "#outer product with numpy \n",
    "\n",
    "n_out = np.outer(vector_1,vector_2)\n",
    "\n",
    "print('Outer Product:')\n",
    "n_out\n"
   ]
  },
  {
   "cell_type": "markdown",
   "metadata": {},
   "source": [
    "### Matrix Multiplication\n",
    "* Two matricies can be multiplied if their inner dimensions match (eg. 2x3 * 3x5 -> 2x5). The best rule for working with and mutliplying matricies is to remember (rows x columns). This applies to both the dimensions of a matrix (a 2x3 matrix has 2 rows and 3 columns) as well as multiplication (you multiply the rows of the first matrix by the columns of the second). \n",
    "\n",
    "* When multiplying two matricies of dimension (M x N)*(N x P) the resulting matrix is (M x P). The upper element of the reslting matrix is the inner (or dot) product of the first row of the first matrix and the first column of the second matrix\n",
    "\n",
    "![two matrices](https://wikimedia.org/api/rest_v1/media/math/render/svg/16b1644351bc2041175b19cbc65da03ef78130c7)\n",
    "\n",
    "![store product in matrix C](https://wikimedia.org/api/rest_v1/media/math/render/svg/00ac0c831c365b7424cc43239aae8cebea27c56c)\n",
    "\n",
    "![matrix multiply](https://wikimedia.org/api/rest_v1/media/math/render/svg/3cfeccef1c8c7e6da0ddf08daed8dbf3c6f50c5e)\n",
    "\n",
    "for i = 1, ..., n and j = 1, ..., p.\n",
    "\n",
    "1. Make two matrices of random numbers (A and B). A should be a 4x3 matrix and B should be a 3x4 matrix. Multiply A by B using (to a resulting matrix C) using:\n",
    "    1. a conventional for-loop\n",
    "    1. list comprehension\n",
    "    1. numpy operator\n",
    "    \n",
    "2. After you have C, pull out the upper quadrant using fancy indexing, and then replace the main diagonal (upper left to lower right) with 0s. "
   ]
  },
  {
   "cell_type": "code",
   "execution_count": 40,
   "metadata": {},
   "outputs": [
    {
     "name": "stdout",
     "output_type": "stream",
     "text": [
      "[[0.9714241515327748, 0.6971852219842397, 0.7218350804612559], [1.1541345447161622, 0.6829834646563078, 0.7374221095724924], [0.5748085963843398, 0.28513334049836975, 0.17989515228299607], [0.7675005791851769, 0.37863036800232247, 0.28756509517435763]]\n",
      "matrix multiplication via numpy\n",
      "[[0.97142415 0.69718522 0.72183508 1.02817413]\n",
      " [1.15413454 0.68298346 0.73742211 1.25119096]\n",
      " [0.5748086  0.28513334 0.17989515 0.55755462]\n",
      " [0.76750058 0.37863037 0.2875651  0.77146601]]\n"
     ]
    }
   ],
   "source": [
    "#generate two matrices of random numbers\n",
    "a= np.random.rand(1,12).reshape(4,3)\n",
    "b= np.random.rand(1,12).reshape(3,4)\n",
    "\n",
    "\n",
    "#multiply via for loop\n",
    "result = [] # final result\n",
    "for i in range(len(a)):\n",
    "\n",
    "    row = [] \n",
    "    for j in range(len(b)):\n",
    "        product = 0 \n",
    "        for v in range(len(a[i])):\n",
    "            product += a[i][v] * b[v][j]\n",
    "        row.append(product) \n",
    "    result.append(row) \n",
    "    \n",
    "print(result)\n",
    "\n",
    "#multiply via list comprehension \n",
    "\n",
    "\n",
    "#multiply via numpy\n",
    "c=np.dot(a,b)\n",
    "print('matrix multiplication via numpy')\n",
    "print(c)"
   ]
  },
  {
   "cell_type": "code",
   "execution_count": null,
   "metadata": {},
   "outputs": [],
   "source": []
  }
 ],
 "metadata": {
  "kernelspec": {
   "display_name": "Python 3",
   "language": "python",
   "name": "python3"
  },
  "language_info": {
   "codemirror_mode": {
    "name": "ipython",
    "version": 3
   },
   "file_extension": ".py",
   "mimetype": "text/x-python",
   "name": "python",
   "nbconvert_exporter": "python",
   "pygments_lexer": "ipython3",
   "version": "3.7.0"
  }
 },
 "nbformat": 4,
 "nbformat_minor": 2
}
