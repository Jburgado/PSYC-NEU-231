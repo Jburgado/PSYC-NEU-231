{
 "cells": [
  {
   "cell_type": "markdown",
   "metadata": {},
   "source": [
    "# In class exercises for Tutorial00 intro to jupyter and python basics"
   ]
  },
  {
   "cell_type": "markdown",
   "metadata": {},
   "source": [
    "## Exercise 1\n",
    "1. Create a list (my_list) with values from 1 to 100\n",
    "1. Print every 4th value from 20 to 80\n",
    "1. Print the above sequence backwards\n",
    "1. Compute the sum of the above sequence (hint: there is a built in function 'sum')"
   ]
  },
  {
   "cell_type": "code",
   "execution_count": 19,
   "metadata": {},
   "outputs": [
    {
     "name": "stdout",
     "output_type": "stream",
     "text": [
      "[20, 24, 28, 32, 36, 40, 44, 48, 52, 56, 60, 64, 68, 72, 76, 80]\n",
      "[80, 76, 72, 68, 64, 60, 56, 52, 48, 44, 40, 36, 32, 28, 24, 20]\n",
      "800\n"
     ]
    }
   ],
   "source": [
    "my_list=list(range(1,101))\n",
    "my_list_new=(my_list[19:80:4])\n",
    "print(my_list_new)\n",
    "print(my_list_new[::-1])\n",
    "total_new_list=sum(my_list_new)\n",
    "print(total_new_list)\n"
   ]
  },
  {
   "cell_type": "markdown",
   "metadata": {},
   "source": [
    "## Exercise 2\n",
    "Tuples are often used to pass values into functions. One nice feature is that their values can be passed to multiple variables at once, for example:\n",
    "\n",
    "my_tuple = ('A','B')\n",
    "\n",
    "a,b = my_tuple\n",
    "\n",
    "will set a and b to the ordered elements in my_tuple. \n",
    "\n",
    "What are a few different ways that you can make a new tuple that combine our Dr. Seuss themed tuples from earlier?\n",
    "1. By creating lots of temporary variables (messy)\n",
    "1. By using a for loop (less messy)\n",
    "1. By using a list (best?)\n",
    "\n",
    "We want one continuous tuple of strings, **not a tuple of tuples** as in the bad example below"
   ]
  },
  {
   "cell_type": "code",
   "execution_count": 22,
   "metadata": {},
   "outputs": [
    {
     "name": "stdout",
     "output_type": "stream",
     "text": [
      "((1, 'fish', 2, 'fish'), ('red', 'fish', 'blue', 'fish'))\n",
      "(1, 'fish', 2, 'fish', 'red', 'fish', 'blue', 'fish')\n"
     ]
    }
   ],
   "source": [
    "#example of bad way of combining 2 tuples\n",
    "a_simple_tuple = (1,'fish',2,'fish')\n",
    "annother_tuple = ('red','fish','blue','fish')\n",
    "bad_tuple = (a_simple_tuple,annother_tuple)\n",
    "print(bad_tuple)\n",
    "\n",
    "#combining tuples \n",
    "new_tuple = a_simple_tuple+annother_tuple\n",
    "print(new_tuple)"
   ]
  },
  {
   "cell_type": "markdown",
   "metadata": {},
   "source": [
    "## Exercise 3\n",
    "Dictionaries are meant to be called by their keys. The order of a dictionary's keys is **not-predictable** (even though the above example seems to stay in the order we put time in... this is not dependable because a hash is used to link the keys and the items). You can access all values in a dictionary using the values command.\n",
    "1. Create a Tuple of UC Schools in order of enrollment size (this should be challenging as this is not how dictionaries are **typically** used\n",
    " *  To get things started we have a sorted list of school enrollement \n",
    " *  We can loop through each school-size and determine which school it is a match to\n",
    " *  This we can append to a new list (schools_bySize)\n",
    " *  We have started things off below...\n",
    "1. BONUS: have them print together nicely :)\n"
   ]
  },
  {
   "cell_type": "code",
   "execution_count": 11,
   "metadata": {},
   "outputs": [
    {
     "ename": "SyntaxError",
     "evalue": "invalid syntax (<ipython-input-11-9fba9a493f92>, line 21)",
     "output_type": "error",
     "traceback": [
      "\u001b[1;36m  File \u001b[1;32m\"<ipython-input-11-9fba9a493f92>\"\u001b[1;36m, line \u001b[1;32m21\u001b[0m\n\u001b[1;33m    for school in UC_Enrollment:\u001b[0m\n\u001b[1;37m                               ^\u001b[0m\n\u001b[1;31mSyntaxError\u001b[0m\u001b[1;31m:\u001b[0m invalid syntax\n"
     ]
    }
   ],
   "source": [
    "UC_Enrollment = {'Santa Barbara':21574,'Santa Cruz':16962,'Irvine': 27331,'Los Angeles':30873,\n",
    "                 'Merced':6815,'Riverside':19799,'San Diego':28127,'San Francisco':0,\n",
    "                 'Berkeley':29310,'Davis':29379}\n",
    "\n",
    "# the keys command gives a list of all keys (not technically a list but behaves the same way)\n",
    "schools = UC_Enrollment.keys()\n",
    "\n",
    "\n",
    "\n",
    "\n",
    "print ('Enrollment values sorted, ascending')\n",
    "values = sorted(UC_Enrollment.values())\n",
    "print (values)\n",
    "print\n",
    "\n",
    "schools_bySize_list = []\n",
    "# loop thru each value in list\n",
    "print ('Starting to loop through values....')\n",
    "for enrollment in values:\n",
    "    print ('enrollment ->) ' + str(enrollment)\n",
    "    for school in UC_Enrollment:\n",
    "        if UC_Enrollment[school] == enrollment:\n",
    "            print 'Match found, adding ' + school + ' to my ordered list at index ' + str(len(schools_bySize_list))\n",
    "            schools_bySize_list.append(school)\n",
    "        # try to trace this loop in your head, iteration by iteration....\n",
    "        '''\n",
    "            Iterations \n",
    "            1: enrollment -> 0\n",
    "                technically random dictionary order...\n",
    "                1.1: school -> 'Santa Barbara'\n",
    "                1.2: school -> 'Santa Cruz'\n",
    "                1.3: school -> 'Irvine'\n",
    "                1.4: school -> 'Los Angeles'\n",
    "                1.5: school -> 'Merced'\n",
    "                1.6: school -> 'Riverside'\n",
    "                1.7: school -> 'San Diego'\n",
    "                1.8: school -> 'San Francisco !!!! MATCH, so this round is done\n",
    "            2: enrollment -> 6815\n",
    "                technically random dictionary order...\n",
    "                2.1: school -> 'Santa Barbara'\n",
    "                2.2: school -> 'Santa Cruz'\n",
    "                2.3: school -> 'Irvine'\n",
    "                2.4: school -> 'Los Angeles'\n",
    "                2.5: school -> 'Merced' !!!!! MATCH, so this round is done\n",
    "            .....and on until all the values have been looped through and schools have been matched to\n",
    "        '''\n",
    "    print\n",
    "\n",
    "# this is called typecasting. the list is converted to a tuple behind-the-scenes in python\n",
    "schools_bySize = tuple(schools_bySize_list)\n",
    "\n",
    "print 'Verifying what type my data structures are'\n",
    "# using different concatenation methods, a '+' and comma-separated\n",
    "# notice how i have to typecast the type to a string for it to print. try removing the str() and see what python says\n",
    "print 'schools_bySize_list: ' + str(type(schools_bySize_list))\n",
    "print 'schools_bySize: ', type(schools_bySize)\n",
    "\n",
    "print\n",
    "print 'Schools listed by order, ascending'\n",
    "for school_name in schools_bySize:\n",
    "    print school_name\n"
   ]
  },
  {
   "cell_type": "markdown",
   "metadata": {},
   "source": [
    "# Exercise 4\n",
    "\n",
    "Write a module (in a .py file) that takes a list of 2 numbers and sorts them from low to high using a if...elif...else statement. \n",
    "\n",
    "Also include another function that will take a longer list of numbers (say ~5) and that uses a 'for' loop to compute the product of all numbers in the array. \n",
    "\n",
    "Bonus - for the first function that sorts the two numbers, do some checking to make sure that the input is exactly two numerical values and return gracefully with a helpful message if not. "
   ]
  },
  {
   "cell_type": "code",
   "execution_count": null,
   "metadata": {},
   "outputs": [],
   "source": []
  }
 ],
 "metadata": {
  "kernelspec": {
   "display_name": "Python 3",
   "language": "python",
   "name": "python3"
  },
  "language_info": {
   "codemirror_mode": {
    "name": "ipython",
    "version": 3
   },
   "file_extension": ".py",
   "mimetype": "text/x-python",
   "name": "python",
   "nbconvert_exporter": "python",
   "pygments_lexer": "ipython3",
   "version": "3.7.0"
  }
 },
 "nbformat": 4,
 "nbformat_minor": 2
}
